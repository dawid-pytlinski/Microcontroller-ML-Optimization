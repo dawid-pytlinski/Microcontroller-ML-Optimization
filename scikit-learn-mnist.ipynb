{
 "cells": [
  {
   "cell_type": "code",
   "execution_count": null,
   "metadata": {},
   "outputs": [
    {
     "name": "stderr",
     "output_type": "stream",
     "text": [
      "c:\\Users\\pytli\\AppData\\Local\\Programs\\Python\\Python39\\lib\\site-packages\\sklearn\\neural_network\\_multilayer_perceptron.py:691: ConvergenceWarning: Stochastic Optimizer: Maximum iterations (50) reached and the optimization hasn't converged yet.\n",
      "  warnings.warn(\n"
     ]
    },
    {
     "name": "stdout",
     "output_type": "stream",
     "text": [
      "Model accuracy: 0.9559\n",
      "Classification report:\n",
      "              precision    recall  f1-score   support\n",
      "\n",
      "           0       0.98      0.98      0.98      1343\n",
      "           1       0.98      0.98      0.98      1600\n",
      "           2       0.95      0.95      0.95      1380\n",
      "           3       0.95      0.94      0.94      1433\n",
      "           4       0.95      0.96      0.96      1295\n",
      "           5       0.95      0.95      0.95      1273\n",
      "           6       0.96      0.97      0.97      1396\n",
      "           7       0.96      0.96      0.96      1503\n",
      "           8       0.94      0.93      0.94      1357\n",
      "           9       0.94      0.94      0.94      1420\n",
      "\n",
      "    accuracy                           0.96     14000\n",
      "   macro avg       0.96      0.96      0.96     14000\n",
      "weighted avg       0.96      0.96      0.96     14000\n",
      "\n",
      "Training time: 305.51 s\n",
      "Inference time: 0.55 s\n",
      "\n",
      "Weights and biases have been saved to .npy files\n"
     ]
    }
   ],
   "source": [
    "import time\n",
    "import numpy as np\n",
    "from sklearn.neural_network import MLPClassifier\n",
    "from sklearn.pipeline import Pipeline\n",
    "from sklearn.preprocessing import StandardScaler\n",
    "from sklearn.metrics import classification_report, accuracy_score\n",
    "from sklearn.datasets import fetch_openml\n",
    "from sklearn.model_selection import train_test_split\n",
    "\n",
    "X, y = fetch_openml('mnist', version=1, return_X_y=True)\n",
    "X = X / 255.0 \n",
    "y = y.astype('int')\n",
    "\n",
    "X_train, X_test, y_train, y_test = train_test_split(X, y, test_size=0.2, random_state=42)\n",
    "\n",
    "pipeline = Pipeline([\n",
    "    ('scaler', StandardScaler()),\n",
    "    ('mlp', MLPClassifier(\n",
    "        hidden_layer_sizes=(256, 256, 128),  \n",
    "        activation='relu'\n",
    "        solver='adam'\n",
    "        max_iter=50\n",
    "        alpha=0.01, \n",
    "        learning_rate_init=0.001\n",
    "        random_state=42\n",
    "    ))\n",
    "])\n",
    "\n",
    "def simulate_delay(func, *args, **kwargs):\n",
    "    time.sleep(0.1)  \n",
    "    return func(*args, **kwargs)\n",
    "\n",
    "start_time = time.time()\n",
    "pipeline.fit(X_train, y_train)\n",
    "training_time = time.time() - start_time\n",
    "\n",
    "start_time = time.time()\n",
    "y_pred = simulate_delay(pipeline.predict, X_test)\n",
    "inference_time = time.time() - start_time\n",
    "\n",
    "accuracy = accuracy_score(y_test, y_pred)\n",
    "print(f\"Model accuracy: {accuracy:.4f}\")\n",
    "print(f\"Classification report:\\n{classification_report(y_test, y_pred)}\")\n",
    "print(f\"Training time: {training_time:.2f} s\")\n",
    "print(f\"Inference time: {inference_time:.2f} s\")\n",
    "\n",
    "mlp_model = pipeline.named_steps['mlp']\n",
    "weights = mlp_model.coefs_\n",
    "biases = mlp_model.intercepts_\n",
    "\n",
    "for i, (w, b) in enumerate(zip(weights, biases)):\n",
    "    np.save(f\"layer_{i}_weights.txt\", w)\n",
    "    np.save(f\"layer_{i}_biases.txt\", b)\n",
    "\n",
    "print(\"\\nWeights and biases have been saved to .txt files\")\n",
    "\n"
   ]
  }
 ],
 "metadata": {
  "kernelspec": {
   "display_name": "Python 3",
   "language": "python",
   "name": "python3"
  },
  "language_info": {
   "codemirror_mode": {
    "name": "ipython",
    "version": 3
   },
   "file_extension": ".py",
   "mimetype": "text/x-python",
   "name": "python",
   "nbconvert_exporter": "python",
   "pygments_lexer": "ipython3",
   "version": "3.9.4"
  }
 },
 "nbformat": 4,
 "nbformat_minor": 2
}
